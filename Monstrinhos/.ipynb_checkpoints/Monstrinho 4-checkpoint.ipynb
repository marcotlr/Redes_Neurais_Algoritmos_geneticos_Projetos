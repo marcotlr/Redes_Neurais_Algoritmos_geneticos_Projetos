{
 "cells": [
  {
   "cell_type": "markdown",
   "id": "f4b4af20",
   "metadata": {},
   "source": [
    "## 3.4 __dunder__\n",
    "\n",
    "#### Objetivo:\n",
    "Se informe sobre métodos dunder que não foram utilizados no material de\n",
    "aula e crie uma classe que contenha pelo menos 3 destes métodos dunder. Faça códigos\n",
    "onde cada um destes métodos dunder seja acessado sem os chamar explicitamente (exemplo: não é para rodar a.__add__(b) mas sim a + b para o caso do dunder __add__).\n",
    "\n",
    "**Considerações do experimento**: A classe deve conter pelo menos 3 métodos dunder\n",
    "que não foram vistos no material da disciplina. Sua classe deve fazer sentido, isto é, não\n",
    "crie uma classe “sem pé nem cabeça” apenas para a entrega. Reflita sobre uma classe\n",
    "onde os métodos dunder propostos realmente fazem sentido. Na sua entrega, explique\n",
    "brevemente o que fazem os métodos dunder que escolheu e mostre eles em ação com uma\n",
    "instância da sua classe."
   ]
  },
  {
   "cell_type": "markdown",
   "id": "fd18761f",
   "metadata": {},
   "source": [
    "## Introdução"
   ]
  },
  {
   "cell_type": "markdown",
   "id": "be07736e",
   "metadata": {},
   "source": [
    "Nessa atividade, iremos explorar o uso de métodos dunder nas classes em python. Foram escolhido 3 exemplos de métodos dunder úteis para se trabalhar com listas. os métodos escolhidos são usados para determinar o tamanho da lista do objeto, acessar um valor com base no seu índice e iterar os valores presentes na lista."
   ]
  },
  {
   "cell_type": "markdown",
   "id": "b80734a3",
   "metadata": {},
   "source": [
    "Primeiro, vamos criar uma classe sem os nossos métodos dunder implementados, para comparar o que o uso de cada uma dessasa classes gera."
   ]
  },
  {
   "cell_type": "code",
   "execution_count": 54,
   "id": "48e55433",
   "metadata": {},
   "outputs": [],
   "source": [
    "class ListaFalha:\n",
    "    def __init__(self, itens):\n",
    "    \n",
    "        self.itens = itens\n",
    "        \n",
    "    def __str__(self):\n",
    "         return str(self.itens)"
   ]
  },
  {
   "cell_type": "markdown",
   "id": "a526b15f",
   "metadata": {},
   "source": [
    "Agora, vamos criar a classe definiitva, com os métodos dunder implementados."
   ]
  },
  {
   "cell_type": "code",
   "execution_count": 55,
   "id": "a47fd725",
   "metadata": {},
   "outputs": [],
   "source": [
    "class MinhaLista:\n",
    "\n",
    "    def __init__(self, itens):\n",
    "    \n",
    "        self.itens = itens\n",
    "\n",
    "    def __getitem__(self, index):\n",
    "        ''' Esse método permite acessar os valores da lista com base no seu índice'''\n",
    "        \n",
    "        return self.itens[index]\n",
    "    \n",
    "    def __len__(self):\n",
    "        ''' Esse método retorna o tamanho da lista (o número de elementos armazenados)'''\n",
    "        return len(self.itens)\n",
    "    \n",
    "    def __iter__(self):\n",
    "        '''Esse método torna a classe iterável, permitindo acessar os valores da lista por meio de um loop(como o 'for')'''\n",
    "    \n",
    "        return iter(self.itens)\n",
    "    \n",
    "    def __str__(self):\n",
    "         return str(self.itens)\n",
    "        "
   ]
  },
  {
   "cell_type": "markdown",
   "id": "4fe560d7",
   "metadata": {},
   "source": [
    "Vamos definir a lista que será usada para testar essas duas classes."
   ]
  },
  {
   "cell_type": "code",
   "execution_count": 56,
   "id": "6048762e",
   "metadata": {},
   "outputs": [],
   "source": [
    "listinha = ['4', '7', '8', '5', '10', '1']\n"
   ]
  },
  {
   "cell_type": "markdown",
   "id": "aec75f12",
   "metadata": {},
   "source": [
    "A seguir, vamos criar um objeto com cada classe usando a lista criada."
   ]
  },
  {
   "cell_type": "code",
   "execution_count": 61,
   "id": "2300eb01",
   "metadata": {},
   "outputs": [
    {
     "name": "stdout",
     "output_type": "stream",
     "text": [
      "['4', '7', '8', '5', '10', '1']\n"
     ]
    }
   ],
   "source": [
    "lista1 = ListaFalha(listinha)\n",
    "print(lista1)"
   ]
  },
  {
   "cell_type": "code",
   "execution_count": 62,
   "id": "275edfc6",
   "metadata": {},
   "outputs": [
    {
     "name": "stdout",
     "output_type": "stream",
     "text": [
      "['4', '7', '8', '5', '10', '1']\n"
     ]
    }
   ],
   "source": [
    "lista2 = MinhaLista(listinha)\n",
    "print(lista2)"
   ]
  },
  {
   "cell_type": "markdown",
   "id": "7e87e179",
   "metadata": {},
   "source": [
    "Por fim, vamos tentar realizar os mesmos 3 testes, relativos aos 3 métodos implementados, para cada um dos objetos criados e ver o que resulta."
   ]
  },
  {
   "cell_type": "code",
   "execution_count": 63,
   "id": "746da491",
   "metadata": {},
   "outputs": [
    {
     "ename": "TypeError",
     "evalue": "'ListaFalha' object is not subscriptable",
     "output_type": "error",
     "traceback": [
      "\u001b[1;31m---------------------------------------------------------------------------\u001b[0m",
      "\u001b[1;31mTypeError\u001b[0m                                 Traceback (most recent call last)",
      "Cell \u001b[1;32mIn[63], line 1\u001b[0m\n\u001b[1;32m----> 1\u001b[0m \u001b[43mlista1\u001b[49m\u001b[43m[\u001b[49m\u001b[38;5;241;43m2\u001b[39;49m\u001b[43m]\u001b[49m\n",
      "\u001b[1;31mTypeError\u001b[0m: 'ListaFalha' object is not subscriptable"
     ]
    }
   ],
   "source": [
    "lista1[2]"
   ]
  },
  {
   "cell_type": "code",
   "execution_count": 50,
   "id": "4ebb1845",
   "metadata": {},
   "outputs": [
    {
     "data": {
      "text/plain": [
       "'8'"
      ]
     },
     "execution_count": 50,
     "metadata": {},
     "output_type": "execute_result"
    }
   ],
   "source": [
    "lista2[2]"
   ]
  },
  {
   "cell_type": "code",
   "execution_count": 64,
   "id": "f062a72a",
   "metadata": {},
   "outputs": [
    {
     "ename": "TypeError",
     "evalue": "object of type 'ListaFalha' has no len()",
     "output_type": "error",
     "traceback": [
      "\u001b[1;31m---------------------------------------------------------------------------\u001b[0m",
      "\u001b[1;31mTypeError\u001b[0m                                 Traceback (most recent call last)",
      "Cell \u001b[1;32mIn[64], line 1\u001b[0m\n\u001b[1;32m----> 1\u001b[0m \u001b[38;5;28;43mlen\u001b[39;49m\u001b[43m(\u001b[49m\u001b[43mlista1\u001b[49m\u001b[43m)\u001b[49m\n",
      "\u001b[1;31mTypeError\u001b[0m: object of type 'ListaFalha' has no len()"
     ]
    }
   ],
   "source": [
    "len(lista1)"
   ]
  },
  {
   "cell_type": "code",
   "execution_count": 47,
   "id": "7004a907",
   "metadata": {},
   "outputs": [
    {
     "data": {
      "text/plain": [
       "6"
      ]
     },
     "execution_count": 47,
     "metadata": {},
     "output_type": "execute_result"
    }
   ],
   "source": [
    "len(lista2)"
   ]
  },
  {
   "cell_type": "code",
   "execution_count": 65,
   "id": "e59af1ad",
   "metadata": {},
   "outputs": [
    {
     "ename": "TypeError",
     "evalue": "'ListaFalha' object is not iterable",
     "output_type": "error",
     "traceback": [
      "\u001b[1;31m---------------------------------------------------------------------------\u001b[0m",
      "\u001b[1;31mTypeError\u001b[0m                                 Traceback (most recent call last)",
      "Cell \u001b[1;32mIn[65], line 1\u001b[0m\n\u001b[1;32m----> 1\u001b[0m \u001b[38;5;28;43;01mfor\u001b[39;49;00m\u001b[43m \u001b[49m\u001b[43mi\u001b[49m\u001b[43m \u001b[49m\u001b[38;5;129;43;01min\u001b[39;49;00m\u001b[43m \u001b[49m\u001b[43mlista1\u001b[49m\u001b[43m:\u001b[49m\n\u001b[0;32m      2\u001b[0m \u001b[43m    \u001b[49m\u001b[38;5;28;43mprint\u001b[39;49m\u001b[43m(\u001b[49m\u001b[43mi\u001b[49m\u001b[43m)\u001b[49m\n",
      "\u001b[1;31mTypeError\u001b[0m: 'ListaFalha' object is not iterable"
     ]
    }
   ],
   "source": [
    "for item in lista1:\n",
    "    print(item)"
   ]
  },
  {
   "cell_type": "code",
   "execution_count": 66,
   "id": "fe57706c",
   "metadata": {},
   "outputs": [
    {
     "name": "stdout",
     "output_type": "stream",
     "text": [
      "4\n",
      "7\n",
      "8\n",
      "5\n",
      "10\n",
      "1\n"
     ]
    }
   ],
   "source": [
    "for item in lista2:\n",
    "    print(item)"
   ]
  },
  {
   "cell_type": "markdown",
   "id": "0db75cdd",
   "metadata": {},
   "source": [
    "## Conclusão"
   ]
  },
  {
   "cell_type": "markdown",
   "id": "c635f737",
   "metadata": {},
   "source": [
    "Podemos ver que após a adição dos 3 métodos dunder na classe criada, foi possível fazer algumas interações com o objeto criado, que não seria possível ser esses métodos na classe.\n",
    "Nas tentativas usando o objeto lista1 como instancia da classe ListaFalha, onde não tem os métodos dunder analisados, vimos que ao tentar usar as ações relacionadas a esses métodos, o código apresenta um erro, demonstrando a necessidade de adicionar os devidos métodos a classe, como foi feito na classe MinhaLista"
   ]
  },
  {
   "cell_type": "markdown",
   "id": "25e7afd1",
   "metadata": {},
   "source": [
    "### Referência"
   ]
  },
  {
   "cell_type": "markdown",
   "id": "8673f653",
   "metadata": {},
   "source": [
    "- https://www.pythonmorsels.com/every-dunder-method/\n"
   ]
  },
  {
   "cell_type": "code",
   "execution_count": null,
   "id": "6c96199d",
   "metadata": {},
   "outputs": [],
   "source": []
  }
 ],
 "metadata": {
  "kernelspec": {
   "display_name": "ilumpy",
   "language": "python",
   "name": "ilumpy"
  },
  "language_info": {
   "codemirror_mode": {
    "name": "ipython",
    "version": 3
   },
   "file_extension": ".py",
   "mimetype": "text/x-python",
   "name": "python",
   "nbconvert_exporter": "python",
   "pygments_lexer": "ipython3",
   "version": "3.11.6"
  }
 },
 "nbformat": 4,
 "nbformat_minor": 5
}
