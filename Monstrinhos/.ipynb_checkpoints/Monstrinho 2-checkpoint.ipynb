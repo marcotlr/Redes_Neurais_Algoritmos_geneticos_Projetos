{
 "cells": [
  {
   "cell_type": "markdown",
   "id": "9989106f",
   "metadata": {},
   "source": [
    "## 3.2 “Átomos não são bolinhas e ligações químicas não são pauzinhos” — Prof. Julio\n",
    "\n",
    "#### Objetivo:\n",
    "Utilize classes de Python para modelar elementos químicos e moléculas.\n",
    "\n",
    "**Considerações do experimento**: Crie uma classe chamada Elemento. Todo elemento químico utilizado nesta tarefa deve ser uma instância desta classe. Toda instância\n",
    "da classe Elemento deve ter os seguintes atributos: símbolo do elemento, número atômico\n",
    "do elemento e peso atômico do elemento (fique à vontade para incluir outras informações\n",
    "se quiser). Crie uma classe chamada Molecula. Esta classe deve receber um dicionário\n",
    "onde as chaves representam os elementos e os valores representam a quantidade do respectivo elemento. A classe Molecula deve ter um método capaz de exibir o peso atômico\n",
    "3\n",
    "da molécula criada e um método capaz gerar uma fórmula química (em string) para esta\n",
    "molécula.\n",
    "Observação: não é necessário que a fórmula química siga as regras oficiais da química,\n",
    "basta representar os elementos existentes e suas quantidades."
   ]
  },
  {
   "cell_type": "markdown",
   "id": "1e15f062",
   "metadata": {},
   "source": [
    "## Introdução"
   ]
  },
  {
   "cell_type": "markdown",
   "id": "e2d77f39",
   "metadata": {},
   "source": [
    "Nessa atividade, iremos criar 2 classes voltadas para modelar elementos e moléculas quimicas. Nisso usaremos objetos associados a 2 classes criadas e iremos definir algumas instancias para determinar propriedades dos nossos elementos e possibilitar a \"montagem\" da fórmula química e seu peso atômico. As classes feitas irão receber os nomes de \"Elemento\" e \"Molécula\"."
   ]
  },
  {
   "cell_type": "code",
   "execution_count": 64,
   "id": "8596009a",
   "metadata": {},
   "outputs": [],
   "source": [
    "class Elemento:\n",
    "    \n",
    "    def __init__(self, simbolo, N_atomico, peso_atomico):\n",
    "        self.simbolo = simbolo\n",
    "        self.N_atomico = N_atomico\n",
    "        self.peso = peso_atomico\n",
    "        \n",
    "    def __repr__(self):\n",
    "        \n",
    "        return f\"O elemento químico é representado pelo símbolo {self.simbolo}, tem número atômico de {self.N_atomico} e seu peso atômico é igual a {self.peso}\"\n"
   ]
  },
  {
   "cell_type": "code",
   "execution_count": 67,
   "id": "8d2b9e86",
   "metadata": {},
   "outputs": [
    {
     "data": {
      "text/plain": [
       "O elemento químico é representado pelo símbolo H, tem número atômico de 1 e seu peso atômico é igual a 1.008"
      ]
     },
     "execution_count": 67,
     "metadata": {},
     "output_type": "execute_result"
    }
   ],
   "source": [
    "Hidrogenio = Elemento(\"H\", 1, 1.008)\n",
    "Hidrogenio"
   ]
  },
  {
   "cell_type": "code",
   "execution_count": 66,
   "id": "7fe99f09",
   "metadata": {},
   "outputs": [
    {
     "data": {
      "text/plain": [
       "O elemento químico é representado pelo símbolo C, tem número atômico de 6 e seu peso atômico é igual a 12.011"
      ]
     },
     "execution_count": 66,
     "metadata": {},
     "output_type": "execute_result"
    }
   ],
   "source": [
    "Carbono = Elemento(\"C\", 6, 12.011)\n",
    "Carbono"
   ]
  },
  {
   "cell_type": "code",
   "execution_count": 52,
   "id": "21399669",
   "metadata": {},
   "outputs": [
    {
     "data": {
      "text/plain": [
       "O elemento químico é representado pelo símbolo O, tem número atômico de 8 e seu peso atômico é igual a 15.999"
      ]
     },
     "execution_count": 52,
     "metadata": {},
     "output_type": "execute_result"
    }
   ],
   "source": [
    "Oxigenio = Elemento(\"O\", 8, 15.999)\n",
    "Oxigenio"
   ]
  },
  {
   "cell_type": "code",
   "execution_count": 53,
   "id": "e72f9e55",
   "metadata": {},
   "outputs": [],
   "source": [
    "class Molecula:\n",
    "\n",
    "    def __init__(self, dic_elementos):\n",
    "        \n",
    "        self.dic_elementos = dic_elementos\n",
    "\n",
    "    def formula_quimica(self):\n",
    "\n",
    "        formula_quimica = \"\"\n",
    "\n",
    "        for elemento, quantidade in self.dic_elementos.items():\n",
    "            formula_quimica += elemento.simbolo\n",
    "            if quantidade > 1:\n",
    "                formula_quimica += str(quantidade)\n",
    "        return formula_quimica\n",
    "\n",
    "    def peso_molecular(self):\n",
    "\n",
    "        peso_total = 0\n",
    "        for elemento, quantidade in self.dic_elementos.items():\n",
    "            peso_total += elemento.peso * quantidade\n",
    "        return peso_total\n",
    "\n",
    "    def __repr__(self):\n",
    "        return f\"A formula molecular é ({self.formula_quimica()}), com peso atômico de {self.peso_molecular()}\"\n",
    "\n",
    "\n"
   ]
  },
  {
   "cell_type": "code",
   "execution_count": 69,
   "id": "94ec7c2c",
   "metadata": {},
   "outputs": [
    {
     "name": "stdout",
     "output_type": "stream",
     "text": [
      "A formula molecular é (H2O), com peso atômico de 18.015\n"
     ]
    }
   ],
   "source": [
    "agua = Molecula({Hidrogenio: 2, Oxigenio: 1})\n",
    "print(agua)\n"
   ]
  },
  {
   "cell_type": "code",
   "execution_count": 58,
   "id": "a73c9c5c",
   "metadata": {},
   "outputs": [],
   "source": [
    "Dioxido_de_Carbono = Molecula({Carbono: 1, Oxigenio: 2})"
   ]
  },
  {
   "cell_type": "code",
   "execution_count": 59,
   "id": "d243ef6c",
   "metadata": {},
   "outputs": [
    {
     "name": "stdout",
     "output_type": "stream",
     "text": [
      "A formula molecular é (CO2), com peso atômico de 44.009\n"
     ]
    }
   ],
   "source": [
    "print(Dioxido_de_Carbono)"
   ]
  },
  {
   "cell_type": "markdown",
   "id": "133f4a9e",
   "metadata": {},
   "source": [
    "## Conclusão"
   ]
  },
  {
   "cell_type": "markdown",
   "id": "fa89ac98",
   "metadata": {},
   "source": [
    "Como é visto, as classes realizaram a ideia proposta para elas de forma eficiente e direita e ainda deixou margem para uma expansão de seus atributos e métodos com objetivo de abranger mais propriedades químicas de interesse no futuro.\n",
    "É possível concluir, que o uso das classes criadas, facilitou o trabalho de desenvolver fórmulas químicas com base ns propriedades dos elementos, mostrando a utilidade dessa funcionalidade (classes) no Python."
   ]
  },
  {
   "cell_type": "code",
   "execution_count": null,
   "id": "737a17d3",
   "metadata": {},
   "outputs": [],
   "source": []
  },
  {
   "cell_type": "code",
   "execution_count": null,
   "id": "132bf39b",
   "metadata": {},
   "outputs": [],
   "source": []
  }
 ],
 "metadata": {
  "kernelspec": {
   "display_name": "ilumpy",
   "language": "python",
   "name": "ilumpy"
  },
  "language_info": {
   "codemirror_mode": {
    "name": "ipython",
    "version": 3
   },
   "file_extension": ".py",
   "mimetype": "text/x-python",
   "name": "python",
   "nbconvert_exporter": "python",
   "pygments_lexer": "ipython3",
   "version": "3.11.6"
  }
 },
 "nbformat": 4,
 "nbformat_minor": 5
}
