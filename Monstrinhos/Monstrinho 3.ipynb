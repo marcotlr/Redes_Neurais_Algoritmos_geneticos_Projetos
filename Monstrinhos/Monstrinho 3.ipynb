{
 "cells": [
  {
   "cell_type": "markdown",
   "id": "4394c96d",
   "metadata": {},
   "source": [
    "## 3.3 Classes em Python não pagam imposto sobre herança\n",
    "\n",
    "#### Objetivo: \n",
    "Modele algum conceito científico utilizando herança de classes.\n",
    "\n",
    "**Considerações do experimento**: O uso da herança de classes deve fazer sentido\n",
    "dentro do contexto científico escolhido, isto é, deve haver uma justificativa bem embasada\n",
    "para o uso de herança de classes na sua entrega. Certifique-se que a classe mãe tem pelo\n",
    "menos um método que não seja dunder para ser herdado pela classe filha. Garanta que a\n",
    "classe filha tem pelo menos um método (dunder ou não) que justifique a sua criação.\n"
   ]
  },
  {
   "cell_type": "markdown",
   "id": "692447b1",
   "metadata": {},
   "source": [
    "##  Introdução"
   ]
  },
  {
   "cell_type": "markdown",
   "id": "a07a8b14",
   "metadata": {},
   "source": [
    "Nessa atividade, vou utilizar de conceitos de biologia para a criação de classes relacionadas a células. Para isso será criada uma classe generica de célula, onde serão definidos alguns atributos do objeto criado relacionada as características da célula. Além disso, vai ser criada uma classe específica para células eucarioticas, onde será usado a herança de classes com a classe \"Celula\" já criada."
   ]
  },
  {
   "cell_type": "code",
   "execution_count": 11,
   "id": "4dabf9ef",
   "metadata": {},
   "outputs": [],
   "source": [
    "class Celula:\n",
    "    def __init__(self, nome, material_genetico, tamanho):\n",
    "        \n",
    "        self.nome = nome\n",
    "        self.material_genetico = material_genetico\n",
    "        self.tamanho = tamanho\n",
    "\n",
    "    def replicar_material_genetico(self):\n",
    "\n",
    "        print(f\"{self.nome} está replicando o seu {self.material_genetico}.\")\n",
    "\n",
    "    def __str__(self):\n",
    "\n",
    "        return f\"Célula: {self.nome}; Material Genético: {self.material_genetico}; tamanho: {self.tamanho} \"\n",
    "\n",
    "    \n",
    "class CelulaEucarionte(Celula):\n",
    "    def __init__(self, nome, material_genetico, tamanho, possui_nucleo=True):\n",
    "   \n",
    "        super().__init__(nome, material_genetico,tamanho)\n",
    "        if possui_nucleo == True:\n",
    "            self.possui_nucleo = \"Sim\"\n",
    "        else:\n",
    "            self.possui_nucleo = \"Não\"\n",
    "    def realizar_mitose(self):\n",
    "\n",
    "        print(f\"{self.nome} está realizando mitose.\")\n",
    "\n",
    "    def __str__(self):\n",
    "\n",
    "        texto_base = super().__str__()\n",
    "        return f\"{texto_base}; Possui Núcleo: {self.possui_nucleo}\"\n",
    "\n",
    "    def realizar_fosforilacao_oxidativa(self, adp_moles):\n",
    "\n",
    "        fator_rendimento_NADH = 2.5  # Rendimento fixo da conversão\n",
    "        atp_produzido = adp_moles * fator_rendimento_NADH\n",
    "        self.energia_atp = atp_produzido\n",
    "        return atp_produzido"
   ]
  },
  {
   "cell_type": "code",
   "execution_count": 12,
   "id": "033ff46c",
   "metadata": {},
   "outputs": [
    {
     "name": "stdout",
     "output_type": "stream",
     "text": [
      "Célula: Bactéria; Material Genético: DNA circular; tamanho: 30um \n",
      "Bactéria está replicando o seu DNA circular.\n"
     ]
    }
   ],
   "source": [
    "bacteria = Celula(\"Bactéria\", \"DNA circular\", \"30um\")\n",
    "print(bacteria)\n",
    "bacteria.replicar_material_genetico()  \n"
   ]
  },
  {
   "cell_type": "code",
   "execution_count": 13,
   "id": "5d9d96c4",
   "metadata": {},
   "outputs": [
    {
     "name": "stdout",
     "output_type": "stream",
     "text": [
      "Célula: Célula Animal; Material Genético: DNA linear; tamanho: 70um ; Possui Núcleo: Sim\n",
      "Célula Animal está replicando o seu DNA linear.\n",
      "Célula Animal está realizando mitose.\n"
     ]
    },
    {
     "data": {
      "text/plain": [
       "7.5"
      ]
     },
     "execution_count": 13,
     "metadata": {},
     "output_type": "execute_result"
    }
   ],
   "source": [
    "celula_animal = CelulaEucarionte(\"Célula Animal\",\"DNA linear\", \"70um\")\n",
    "\n",
    "print(celula_animal)\n",
    "celula_animal.replicar_material_genetico()  \n",
    "celula_animal.realizar_mitose() \n",
    "celula_animal.realizar_fosforilacao_oxidativa(3)"
   ]
  },
  {
   "cell_type": "markdown",
   "id": "d7c82e48",
   "metadata": {},
   "source": [
    "## Conclusão"
   ]
  },
  {
   "cell_type": "markdown",
   "id": "b365cb1b",
   "metadata": {},
   "source": [
    "Nesta atividade, foi possível aplicar conceitos de biologia celular usando programação orientada a objetos no Python. Foram criadas representações simples de diferentes tipos de células, implementando características compartilhadas e específicas de eucariontes com herança de classes. A inclusão de métodos biológicos como mitose e fosforilação oxidativa permitiu simular de forma simbólica comportamentos celulares reais. Com isso, foi possível integrar conhecimentos de programação e biologia de forma eficiente.\n"
   ]
  },
  {
   "cell_type": "markdown",
   "id": "7eb8a757",
   "metadata": {},
   "source": [
    "## Referências\n",
    "\n",
    "- Cassar, Daniel R. - Material da disciplina de Redes Neurais e Algoritmos genéticos. 2025"
   ]
  }
 ],
 "metadata": {
  "kernelspec": {
   "display_name": "ilumpy",
   "language": "python",
   "name": "ilumpy"
  },
  "language_info": {
   "codemirror_mode": {
    "name": "ipython",
    "version": 3
   },
   "file_extension": ".py",
   "mimetype": "text/x-python",
   "name": "python",
   "nbconvert_exporter": "python",
   "pygments_lexer": "ipython3",
   "version": "3.11.6"
  }
 },
 "nbformat": 4,
 "nbformat_minor": 5
}
