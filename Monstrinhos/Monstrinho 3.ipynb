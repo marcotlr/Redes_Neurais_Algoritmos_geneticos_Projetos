{
 "cells": [
  {
   "cell_type": "markdown",
   "id": "06f9501a",
   "metadata": {},
   "source": [
    "###  Introdução"
   ]
  },
  {
   "cell_type": "code",
   "execution_count": 5,
   "id": "fc0bbcfb",
   "metadata": {},
   "outputs": [],
   "source": [
    "class Celula:\n",
    "\n",
    "    def __init__(self, tipo_de_membrana, material_genetico, tamanho):\n",
    "        self.tipo_de_membrana = tipo_de_membrana\n",
    "        self.material_genetico = material_genetico\n",
    "        self.tamanho = tamanho\n",
    "\n",
    "    def reproduzir(self):\n",
    "\n",
    "        print(f\"A célula com membrana do tipo {self.tipo_de_membrana}, está replicando seu material genético de tipo ({self.material_genetico}).\")\n",
    "\n",
    "    def __str__(self):\n",
    "        \n",
    "        return (f\"Celula - Membrana: {self.tipo_de_membrana}, material Genético: {self.material_genetico}, Tamanho: {self.tamanho} µm\")\n",
    "\n",
    "\n",
    "\n"
   ]
  },
  {
   "cell_type": "code",
   "execution_count": 3,
   "id": "95935256",
   "metadata": {},
   "outputs": [],
   "source": [
    "class CelulaEucariotica(Celula):\n",
    "\n",
    "    def __init__(self, tipo_de_membrana, material_genetico, tamanho,\n",
    "                 presenca_organelas=True):\n",
    "        super().__init__(tipo_de_membrana, material_genetico, tamanho)\n",
    "        self.presenca_organelas = presenca_organelas\n",
    "\n",
    "    def reproduzir(self):\n",
    "\n",
    "        print(f\"A célula eucariótica com núcleo {self.tipo_de_nucleo} está iniciando o processo de mitose.\")\n",
    "\n",
    "    def descrever_organelas(self):\n",
    "        \n"
   ]
  },
  {
   "cell_type": "code",
   "execution_count": null,
   "id": "7630aea8",
   "metadata": {},
   "outputs": [],
   "source": [
    "\n"
   ]
  },
  {
   "cell_type": "code",
   "execution_count": null,
   "id": "c818b041",
   "metadata": {},
   "outputs": [],
   "source": []
  }
 ],
 "metadata": {
  "kernelspec": {
   "display_name": "ilumpy",
   "language": "python",
   "name": "ilumpy"
  },
  "language_info": {
   "codemirror_mode": {
    "name": "ipython",
    "version": 3
   },
   "file_extension": ".py",
   "mimetype": "text/x-python",
   "name": "python",
   "nbconvert_exporter": "python",
   "pygments_lexer": "ipython3",
   "version": "3.11.6"
  }
 },
 "nbformat": 4,
 "nbformat_minor": 5
}
