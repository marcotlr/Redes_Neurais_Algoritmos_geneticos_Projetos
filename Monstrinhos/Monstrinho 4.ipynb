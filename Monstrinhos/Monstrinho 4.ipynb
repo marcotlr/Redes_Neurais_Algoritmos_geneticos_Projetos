{
 "cells": [
  {
   "cell_type": "code",
   "execution_count": 1,
   "id": "c681d6d4",
   "metadata": {},
   "outputs": [
    {
     "ename": "SyntaxError",
     "evalue": "incomplete input (3695122597.py, line 2)",
     "output_type": "error",
     "traceback": [
      "\u001b[1;36m  Cell \u001b[1;32mIn[1], line 2\u001b[1;36m\u001b[0m\n\u001b[1;33m    def __init__(self, valor):\u001b[0m\n\u001b[1;37m                              ^\u001b[0m\n\u001b[1;31mSyntaxError\u001b[0m\u001b[1;31m:\u001b[0m incomplete input\n"
     ]
    }
   ],
   "source": [
    "class Numeros:\n",
    "    def __init__(self, valor):\n",
    "        self.valor = valor\n",
    "        \n",
    "    def __eq__(self, outro):\n",
    "        \n",
    "    \n",
    "    def __lt__(self, outro):\n",
    "        \n",
    "        \n",
    "    def __gt__ (self, outro):\n",
    "        \n",
    "        "
   ]
  },
  {
   "cell_type": "code",
   "execution_count": null,
   "id": "7b74116f",
   "metadata": {},
   "outputs": [],
   "source": []
  }
 ],
 "metadata": {
  "kernelspec": {
   "display_name": "ilumpy",
   "language": "python",
   "name": "ilumpy"
  },
  "language_info": {
   "codemirror_mode": {
    "name": "ipython",
    "version": 3
   },
   "file_extension": ".py",
   "mimetype": "text/x-python",
   "name": "python",
   "nbconvert_exporter": "python",
   "pygments_lexer": "ipython3",
   "version": "3.11.6"
  }
 },
 "nbformat": 4,
 "nbformat_minor": 5
}
