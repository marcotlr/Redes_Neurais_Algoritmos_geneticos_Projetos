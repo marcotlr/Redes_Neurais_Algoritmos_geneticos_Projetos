{
 "cells": [
  {
   "cell_type": "code",
   "execution_count": 49,
   "id": "bcbb5247",
   "metadata": {},
   "outputs": [],
   "source": [
    "class Elemento:\n",
    "    \n",
    "    def __init__(self, simbolo, N_atomico, peso_atomico):\n",
    "        self.simbolo = simbolo\n",
    "        self.N_atomico = N_atomico\n",
    "        self.peso = peso_atomico\n",
    "        \n",
    "    def __repr__(self):\n",
    "        \n",
    "        return f\"O elemento químico é representado pelo símbolo {self.simbolo}, tem número atômico de {self.N_atomico} e seu peso atômico é igual a {self.peso}\"\n"
   ]
  },
  {
   "cell_type": "code",
   "execution_count": 50,
   "id": "9fdb4574",
   "metadata": {},
   "outputs": [
    {
     "data": {
      "text/plain": [
       "O elemento químico é representado pelo símbolo H, tem número atômico de 1 e seu peso atômico é igual a 1.008"
      ]
     },
     "execution_count": 50,
     "metadata": {},
     "output_type": "execute_result"
    }
   ],
   "source": [
    "Hidrogenio = Elemento(\"H\", 1, 1.008)\n",
    "Hidrogenio"
   ]
  },
  {
   "cell_type": "code",
   "execution_count": 51,
   "id": "179497ee",
   "metadata": {},
   "outputs": [
    {
     "data": {
      "text/plain": [
       "O elemento químico é representado pelo símbolo C, tem número atômico de 6 e seu peso atômico é igual a 12.011"
      ]
     },
     "execution_count": 51,
     "metadata": {},
     "output_type": "execute_result"
    }
   ],
   "source": [
    "Carbono = Elemento(\"C\", 6, 12.011)\n",
    "Carbono"
   ]
  },
  {
   "cell_type": "code",
   "execution_count": 52,
   "id": "5cd0e38d",
   "metadata": {},
   "outputs": [
    {
     "data": {
      "text/plain": [
       "O elemento químico é representado pelo símbolo O, tem número atômico de 8 e seu peso atômico é igual a 15.999"
      ]
     },
     "execution_count": 52,
     "metadata": {},
     "output_type": "execute_result"
    }
   ],
   "source": [
    "Oxigenio = Elemento(\"O\", 8, 15.999)\n",
    "Oxigenio"
   ]
  },
  {
   "cell_type": "code",
   "execution_count": 53,
   "id": "4d956f40",
   "metadata": {},
   "outputs": [],
   "source": [
    "class Molecula:\n",
    "\n",
    "    def __init__(self, dic_elementos):\n",
    "        \n",
    "        self.dic_elementos = dic_elementos\n",
    "\n",
    "    def formula_quimica(self):\n",
    "\n",
    "        formula_quimica = \"\"\n",
    "\n",
    "        for elemento, quantidade in self.dic_elementos.items():\n",
    "            formula_quimica += elemento.simbolo\n",
    "            if quantidade > 1:\n",
    "                formula_quimica += str(quantidade)\n",
    "        return formula_quimica\n",
    "\n",
    "    def peso_molecular(self):\n",
    "\n",
    "        peso_total = 0\n",
    "        for elemento, quantidade in self.dic_elementos.items():\n",
    "            peso_total += elemento.peso * quantidade\n",
    "        return peso_total\n",
    "\n",
    "    def __repr__(self):\n",
    "        return f\"A formula molecular é ({self.formula_quimica()}), com peso atômico de {self.peso_molecular()}\"\n",
    "\n",
    "\n"
   ]
  },
  {
   "cell_type": "code",
   "execution_count": 57,
   "id": "a9369b04",
   "metadata": {},
   "outputs": [
    {
     "name": "stdout",
     "output_type": "stream",
     "text": [
      "A formula molecular é (H2O), com peso atômico de 18.015\n"
     ]
    }
   ],
   "source": [
    "agua = Molecula({Hidrogenio: 2, Oxigenio: 1})\n",
    "print(agua) \n"
   ]
  },
  {
   "cell_type": "code",
   "execution_count": 58,
   "id": "c0738b89",
   "metadata": {},
   "outputs": [],
   "source": [
    "Dioxido_de_Carbono = Molecula({Carbono: 1, Oxigenio: 2})"
   ]
  },
  {
   "cell_type": "code",
   "execution_count": 59,
   "id": "8c26e509",
   "metadata": {},
   "outputs": [
    {
     "name": "stdout",
     "output_type": "stream",
     "text": [
      "A formula molecular é (CO2), com peso atômico de 44.009\n"
     ]
    }
   ],
   "source": [
    "print(Dioxido_de_Carbono)"
   ]
  },
  {
   "cell_type": "code",
   "execution_count": null,
   "id": "da7aab62",
   "metadata": {},
   "outputs": [],
   "source": []
  }
 ],
 "metadata": {
  "kernelspec": {
   "display_name": "ilumpy",
   "language": "python",
   "name": "ilumpy"
  },
  "language_info": {
   "codemirror_mode": {
    "name": "ipython",
    "version": 3
   },
   "file_extension": ".py",
   "mimetype": "text/x-python",
   "name": "python",
   "nbconvert_exporter": "python",
   "pygments_lexer": "ipython3",
   "version": "3.11.6"
  }
 },
 "nbformat": 4,
 "nbformat_minor": 5
}
