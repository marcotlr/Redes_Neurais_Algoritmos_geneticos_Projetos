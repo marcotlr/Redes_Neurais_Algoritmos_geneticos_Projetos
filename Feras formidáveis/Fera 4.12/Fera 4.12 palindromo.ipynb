{
 "cells": [
  {
   "cell_type": "markdown",
   "id": "7376e73e",
   "metadata": {},
   "source": [
    "## 4.12 Novos palíndromos\n",
    "\n",
    "#### Objetivo: \n",
    "Encontre pelo menos 10 palíndromos diferentes de 5 letras. Estes palíndromos devem ter pelo menos uma vogal. Não é necessário que eles formem palavras válidas\n",
    "em português ou qualquer outro idioma"
   ]
  },
  {
   "cell_type": "markdown",
   "id": "2fbc2238",
   "metadata": {},
   "source": [
    "## Introdução"
   ]
  },
  {
   "cell_type": "markdown",
   "id": "444b7216",
   "metadata": {},
   "source": [
    "O problema de gerar palíndromos de comprimento fixo consiste em criar sequências de caracteres que se leiam da mesma forma de frente para trás e de trás para frente, obedecendo ainda à restrição de conter pelo menos uma vogal. No nosso caso, buscamos produzir 10 palíndromos distintos de 5 letras, sem nos preocuparmos com palavras válidas em qualquer idioma, mas garantindo sempre a presença de uma vogal para a diversidade dos candidatos. \n",
    "\n",
    "Para isso, adotamos um **Algoritmo Genético** customizado que evolui uma população de cadeias ao longo de várias gerações. Cada indivíduo é uma lista de 5 letras sorteadas aleatoriamente, e a cada ciclo aplicamos:\n",
    "\n",
    "- **Função objetivo**: calcula a “distância a palíndromo” somando, para cada par de posições espelhadas (i e –i-1), a diferença absoluta entre seus códigos ASCII; quanto menor o valor, mais simétrico o candidato (0 = palíndromo perfeito).\n",
    "\n",
    "- **Seleção por Torneio**: agrupamos pequenos subconjuntos da população e escolhemos o melhor (menor “distância a palíndromo”) de cada grupo para a reprodução.\n",
    "\n",
    "- **Cruzamento Espelhado**: trocamos blocos simétricos de dois pais (posições i e −i-1) para gerar dois filhos que preservam a estrutura de palíndromo.\n",
    "\n",
    "- **Mutação Espelhada**: escolhemos um gene aleatório em cada filha e o seu espelho, substituindo ambos por uma nova letra, garantindo simetria.\n",
    "\n",
    "- **Reparo de Vogal**: sempre que um candidato não tiver uma vogal, colocamos uma vogal num par espelhado para satisfazer a restrição.\n",
    "\n",
    "Ao final, coletamos todos os indivíduos com fitness igual a zero (palíndromos perfeitos) até obter as 10 soluções desejadas, exibindo cada um no exato momento em que aparece pela primeira vez com distância zero. Essa abordagem mostra-se rápida na convergência, pois concentra as operações genéticas apenas no subespaço válido de sequências espelhadas e corrige automaticamente a ausência de vogais, produzindo resultados em poucas gerações."
   ]
  },
  {
   "cell_type": "code",
   "execution_count": 1,
   "id": "f7d3dd8b",
   "metadata": {},
   "outputs": [],
   "source": [
    "import random\n",
    "from string import ascii_lowercase\n",
    "from pprint import pprint\n",
    "\n",
    "from funcoes_palindromo import populacao_palindromo as cria_populacao\n",
    "from funcoes_palindromo import funcao_objetivo_pop_palindromo as funcao_objetivo\n",
    "from funcoes_palindromo import selecao_torneio_min as funcao_selecao\n",
    "from funcoes_palindromo import cruzamento_espelhado as funcao_cruzamento\n",
    "from funcoes_palindromo import mutacao_espelhada as funcao_mutacao\n"
   ]
  },
  {
   "cell_type": "code",
   "execution_count": 8,
   "id": "c18ba112",
   "metadata": {},
   "outputs": [],
   "source": [
    "CARACTERES_POSSIVEIS = ascii_lowercase\n",
    "VOGAIS = ['a', 'e', 'i', 'o', 'u']\n",
    "\n",
    "TAMANHO_POPULACAO = 100\n",
    "CHANCE_DE_CRUZAMENTO = 0.5\n",
    "CHANCE_DE_MUTACAO = 0.025\n",
    "TAMANHO_TORNEIO = 3\n",
    "N_LETRAS = 5"
   ]
  },
  {
   "cell_type": "code",
   "execution_count": 36,
   "id": "f1a01f7d",
   "metadata": {},
   "outputs": [
    {
     "name": "stdout",
     "output_type": "stream",
     "text": [
      "1 eecee\n",
      "1 nomon\n",
      "1 iuxui\n",
      "1 supus\n",
      "1 jovoj\n",
      "1 zajaz\n",
      "1 oiyio\n",
      "1 cexec\n",
      "1 ueseu\n",
      "1 yufuy\n"
     ]
    }
   ],
   "source": [
    "palindromos = []\n",
    "\n",
    "\n",
    "for n in range(10):\n",
    "    populacao = cria_populacao(TAMANHO_POPULACAO, N_LETRAS, CARACTERES_POSSIVEIS, VOGAIS)\n",
    "    menor_fitness_geral = float(\"inf\")\n",
    "    geracao = 0\n",
    "    while menor_fitness_geral != 0:\n",
    "        \n",
    "        # Seleção\n",
    "        fitness = funcao_objetivo(populacao)        \n",
    "        selecionados = funcao_selecao(populacao, fitness, TAMANHO_TORNEIO)\n",
    "        \n",
    "        # Cruzamento\n",
    "        proxima_geracao = []\n",
    "        for pai, mae in zip(selecionados[::2], selecionados[1::2]):\n",
    "            individuo1, individuo2 = funcao_cruzamento(pai, mae, CHANCE_DE_CRUZAMENTO, N_LETRAS, VOGAIS)\n",
    "            proxima_geracao.append(individuo1)\n",
    "            proxima_geracao.append(individuo2)\n",
    "        \n",
    "        # Mutação\n",
    "        funcao_mutacao(proxima_geracao, CHANCE_DE_MUTACAO, list(CARACTERES_POSSIVEIS), VOGAIS, N_LETRAS)\n",
    "        \n",
    "        # Encerramento\n",
    "        populacao = proxima_geracao\n",
    "        geracao += 1\n",
    "        \n",
    "        fitness = funcao_objetivo(populacao)\n",
    "        menor_fitness_observado = min(fitness)\n",
    "        \n",
    "        if menor_fitness_observado < menor_fitness_geral:\n",
    "            menor_fitness_geral = menor_fitness_observado\n",
    "            indice = fitness.index(menor_fitness_observado)\n",
    "            candidato = populacao[indice]\n",
    "            print(geracao, \"\".join(candidato))\n",
    "    \n",
    "    indice = fitness.index(menor_fitness_geral)\n",
    "    palindromos.append(populacao[indice])"
   ]
  },
  {
   "cell_type": "code",
   "execution_count": 37,
   "id": "a3c7bf45",
   "metadata": {},
   "outputs": [
    {
     "name": "stdout",
     "output_type": "stream",
     "text": [
      "['eecee',\n",
      " 'nomon',\n",
      " 'iuxui',\n",
      " 'supus',\n",
      " 'jovoj',\n",
      " 'zajaz',\n",
      " 'oiyio',\n",
      " 'cexec',\n",
      " 'ueseu',\n",
      " 'yufuy']\n"
     ]
    }
   ],
   "source": [
    "palindromos\n",
    "\n",
    "pprint([''.join(palindromo) for palindromo in palindromos])\n"
   ]
  },
  {
   "cell_type": "markdown",
   "id": "fd4b0b65",
   "metadata": {},
   "source": [
    "## Conclusão"
   ]
  },
  {
   "cell_type": "markdown",
   "id": "aa62540b",
   "metadata": {},
   "source": [
    "Ao longo deste notebook, implementamos um Algoritmo Genético especial para a geração de palíndromos, respeitando tanto a simetria) quanto a obrigatoriedade de conter pelo menos uma vogal em cada indivíduo. Vimos que, ao aplicar operadores de seleção por torneio, cruzamento espelhado e espelhada, o sistema rapidamente aproximou a população de soluções com fitness zero (palíndromos perfeitos). Testes repetidos demonstraram que, mesmo partindo de uma população inicial aleatória, o algoritmo convergiu em poucas gerações, exibindo em cada tentativa o palíndromo buscado de forma consistente.\n",
    "\n",
    "Essa convergência tão rápida se deve sobretudo ao design dos operadores que preservam as características essenciais do problema — espelhamento garantido e adição controlada de vogais espelhada(quando não tiver) — além do critério de parada baseado em fitness zero, que interrompe o ciclo assim que um palíndromo é alcançado. No total, coletamos dez soluções distintas e, com isso, ficou evidente que o uso de um AG bem ajustado a restrições de simetria pode oferecer resultados de alta qualidade em tempo computacional baixo. "
   ]
  },
  {
   "cell_type": "markdown",
   "id": "fa7fbc3f",
   "metadata": {},
   "source": [
    "## Referências\n",
    "\n",
    "- Cassar, Daniel R. - Material da disciplina de Redes Neurais e Algoritmos genéticos. 2025"
   ]
  },
  {
   "cell_type": "markdown",
   "id": "042daf34",
   "metadata": {},
   "source": []
  }
 ],
 "metadata": {
  "kernelspec": {
   "display_name": "ilumpy",
   "language": "python",
   "name": "ilumpy"
  },
  "language_info": {
   "codemirror_mode": {
    "name": "ipython",
    "version": 3
   },
   "file_extension": ".py",
   "mimetype": "text/x-python",
   "name": "python",
   "nbconvert_exporter": "python",
   "pygments_lexer": "ipython3",
   "version": "3.11.6"
  }
 },
 "nbformat": 4,
 "nbformat_minor": 5
}
