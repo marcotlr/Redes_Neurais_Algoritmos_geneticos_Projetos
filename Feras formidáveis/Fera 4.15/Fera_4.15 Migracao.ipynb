{
 "cells": [
  {
   "cell_type": "markdown",
   "id": "6fa54a7c",
   "metadata": {},
   "source": [
    "Alunos: Andriel Vinicius Martins da Silva e Marco Túlio Lima Rodrigues\n",
    "\n",
    "## **4.15** Vai pra lá ou vem pra cá!\n",
    "\n",
    "**Objetivo:** Implemente o operador genético de migração no código de algoritmo\n",
    "genético desenvolvido nesta disciplina (isto é, não é para usar o DEAP). Conte para o\n",
    "leitor sobre como a sua implementação funciona e mostre ela em ação."
   ]
  },
  {
   "cell_type": "markdown",
   "id": "4447b57d",
   "metadata": {},
   "source": [
    "## Introdução\n",
    "<p style=\"text-align: justify;\">\n",
    "\n",
    "No contexto dos algoritmos genéticos, os operadores mais utilizados são: seleção, cruzamento e mutação. A técnica de migração surge como uma alternativa para melhorar a variabilidade genética. Esse operador consiste no desenvolvimento de múltiplas populações em conjunto (mínimo de duas populações), nas quais, após algumas gerações, um ou mais indivíduos podem migrar de uma população para outra. No presente projeto, busca-se implementar um algoritmo genético com migração para o caso das caixas não binárias, gerando apenas duas populações e realizando migrações periódicas de um indivíduo entre elas."
   ]
  },
  {
   "cell_type": "code",
   "execution_count": 1,
   "id": "04006976",
   "metadata": {},
   "outputs": [],
   "source": [
    "import random\n",
    "from pprint import pprint\n",
    "\n",
    "from funcoes_Migracao import populacao_cnb as cria_populacao\n",
    "from funcoes_Migracao import funcao_objetivo_pop_cnb as funcao_objetivo\n",
    "from funcoes_Migracao import selecao_torneio_max as funcao_selecao\n",
    "from funcoes_Migracao import cruzamento_ponto_duplo as funcao_cruzamento\n",
    "from funcoes_Migracao import mutacao_sucessiva_cnb as funcao_mutacao\n",
    "from funcoes_Migracao import migracao"
   ]
  },
  {
   "cell_type": "code",
   "execution_count": 2,
   "id": "2fe7ce0e",
   "metadata": {},
   "outputs": [],
   "source": [
    "NUM_CAIXAS = 4\n",
    "VALOR_MAX_CAIXA = 100\n",
    "\n",
    "TAMANHO_POPULACAO = 100\n",
    "NUM_GERACOES = 700\n",
    "CHANCE_DE_CRUZAMENTO = 0.5\n",
    "CHANCE_DE_MUTACAO = 0.05\n",
    "CHANCE_DE_MUTACAO_POR_GENE = 0.25\n",
    "CHANCE_DE_MIGRACAO = 0.25\n",
    "TAMANHO_TORNEIO = 3"
   ]
  },
  {
   "cell_type": "code",
   "execution_count": 3,
   "id": "4501ace5",
   "metadata": {},
   "outputs": [],
   "source": [
    "populacao1  = cria_populacao(TAMANHO_POPULACAO, NUM_CAIXAS, VALOR_MAX_CAIXA)\n",
    "populacao2  = cria_populacao(TAMANHO_POPULACAO, NUM_CAIXAS, VALOR_MAX_CAIXA)\n"
   ]
  },
  {
   "cell_type": "code",
   "execution_count": 4,
   "id": "74c9559d",
   "metadata": {},
   "outputs": [],
   "source": [
    "def algoritmo_genetico(populacao, hall_da_fama):\n",
    "    # Seleção\n",
    "    fitness = funcao_objetivo(populacao)        \n",
    "    selecionados = funcao_selecao(populacao, fitness, TAMANHO_TORNEIO)\n",
    "    \n",
    "    # Cruzamento\n",
    "    proxima_geracao = []\n",
    "    for pai, mae in zip(selecionados[::2], selecionados[1::2]):\n",
    "        individuo1, individuo2 = funcao_cruzamento(pai, mae, CHANCE_DE_CRUZAMENTO)\n",
    "        proxima_geracao.append(individuo1)\n",
    "        proxima_geracao.append(individuo2)\n",
    "    \n",
    "    # Mutação\n",
    "    funcao_mutacao(proxima_geracao, CHANCE_DE_MUTACAO, CHANCE_DE_MUTACAO_POR_GENE, VALOR_MAX_CAIXA)\n",
    "    \n",
    "    # Atualização do hall da fama\n",
    "    fitness = funcao_objetivo(proxima_geracao)\n",
    "     \n",
    "    melhor_pop = fitness.index(max(fitness))\n",
    "    hall_da_fama.append(proxima_geracao[melhor_pop])    \n",
    "    \n",
    "    # Encerramento\n",
    "    populacao = proxima_geracao\n",
    "    \n",
    "    return fitness"
   ]
  },
  {
   "cell_type": "markdown",
   "id": "8123cc26",
   "metadata": {},
   "source": [
    "### Apresentando a migração \n",
    "\n",
    "```python\n",
    "def migracao(populacao1, populacao2, fitness_pop1, fitness_pop2, chance_de_migracao):\n",
    "    \n",
    "    if random.random() < chance_de_migracao:\n",
    "        melhor_indice_1 = fitness_pop1.index(max(fitness_pop1))\n",
    "        melhor_indice_2 = fitness_pop2.index(max(fitness_pop2))\n",
    "        \n",
    "        populacao1[melhor_indice_1], populacao2[melhor_indice_2] = \n",
    "        populacao2[melhor_indice_2], populacao1[melhor_indice_1]\n",
    "```\n",
    "O código acima possibilita a troca dos melhores indivíduos de uma população para outra — algo que talvez não seja a melhor opção para o problema em questão, mas que, neste caso, busca apenas demonstrar uma possível aplicação do que se pode construir com esse algoritmo.\n"
   ]
  },
  {
   "cell_type": "code",
   "execution_count": 5,
   "id": "be3132bb",
   "metadata": {},
   "outputs": [],
   "source": [
    "hall_da_fama_pop1 = []\n",
    "hall_da_fama_pop2 = []\n",
    "\n",
    "for n in range(NUM_GERACOES):\n",
    "    fitness1 = algoritmo_genetico(populacao1, hall_da_fama_pop1)\n",
    "    fitness2 = algoritmo_genetico(populacao2, hall_da_fama_pop2)\n",
    "    \n",
    "    if n % 50 == 0:\n",
    "        migracao(populacao1, populacao2, fitness1, fitness2, CHANCE_DE_MIGRACAO)\n"
   ]
  },
  {
   "cell_type": "code",
   "execution_count": 6,
   "id": "8f00479c",
   "metadata": {},
   "outputs": [
    {
     "data": {
      "text/plain": [
       "[93, 100, 99, 100]"
      ]
     },
     "execution_count": 6,
     "metadata": {},
     "output_type": "execute_result"
    }
   ],
   "source": [
    "hall_da_fama = hall_da_fama_pop1 + hall_da_fama_pop2\n",
    "\n",
    "fitness = funcao_objetivo(hall_da_fama)\n",
    "maior_fitness = max(fitness)\n",
    "indice = fitness.index(maior_fitness)\n",
    "melhor_individuo_observado = hall_da_fama[indice]\n",
    "\n",
    "melhor_individuo_observado"
   ]
  },
  {
   "cell_type": "markdown",
   "id": "d9102fc6",
   "metadata": {},
   "source": [
    "## Conclusão\n",
    "\n",
    "Ao final da implementação, nota-se que o resultado está um pouco distante do esperado ([100, 100, 100, 100]), porém, esperava-se tal comportamento, considerando que o problema escolhido não apresenta muita variabilidade entre as populações, sendo essa troca de individuos pouco funcional. Para obter um desempenho melhor, podem ser aplicadas diferentes estratégias, como ajustes nos parâmetros do algoritmo, aumento no número de gerações ou variações nos critérios de migração e seleção, porém nesse contexto o uso do algoritmo se faz apenas para fins ditaticos, para uma demonstração de sua implementação."
   ]
  },
  {
   "cell_type": "code",
   "execution_count": null,
   "id": "a879e277",
   "metadata": {},
   "outputs": [],
   "source": []
  }
 ],
 "metadata": {
  "kernelspec": {
   "display_name": "Python 3 (ipykernel)",
   "language": "python",
   "name": "python3"
  },
  "language_info": {
   "codemirror_mode": {
    "name": "ipython",
    "version": 3
   },
   "file_extension": ".py",
   "mimetype": "text/x-python",
   "name": "python",
   "nbconvert_exporter": "python",
   "pygments_lexer": "ipython3",
   "version": "3.11.5"
  }
 },
 "nbformat": 4,
 "nbformat_minor": 5
}
