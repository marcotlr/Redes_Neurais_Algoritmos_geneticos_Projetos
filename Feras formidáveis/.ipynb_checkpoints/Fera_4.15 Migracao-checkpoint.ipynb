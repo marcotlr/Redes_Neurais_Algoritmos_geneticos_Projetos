{
 "cells": [
  {
   "cell_type": "markdown",
   "id": "6fa54a7c",
   "metadata": {},
   "source": [
    "<p style=\"text-align: justify;\">\n",
    "Alunos: Andriel Vinicius Martins da Silva e Marco Túlio Lima Rodrigues\n",
    "\n",
    "### **4.15** Vai pra lá ou vem pra cá!\n",
    "\n",
    "**Objetivo:** Implemente o operador genético de migração no código de algoritmo\n",
    "genético desenvolvido nesta disciplina (isto é, não é para usar o DEAP). Conte para o\n",
    "leitor sobre como a sua implementação funciona e mostre ela em ação."
   ]
  },
  {
   "cell_type": "markdown",
   "id": "4447b57d",
   "metadata": {},
   "source": [
    "<p style=\"text-align: justify;\">\n",
    "\n",
    "### Introdução\n",
    "\n",
    "No contexto dos algoritmos genéticos os operadores mais utilizados são: seleção, cruzamento e mutação; a técnica de migração aparece "
   ]
  },
  {
   "cell_type": "code",
   "execution_count": 76,
   "id": "04006976",
   "metadata": {},
   "outputs": [],
   "source": [
    "import random\n",
    "from pprint import pprint\n",
    "\n",
    "from funcoes_6_Migracao import populacao_cnb as cria_populacao\n",
    "from funcoes_6_Migracao import funcao_objetivo_pop_cnb as funcao_objetivo\n",
    "from funcoes_6_Migracao import selecao_torneio_max as funcao_selecao\n",
    "from funcoes_6_Migracao import cruzamento_ponto_duplo as funcao_cruzamento\n",
    "from funcoes_6_Migracao import mutacao_sucessiva_cnb as funcao_mutacao\n",
    "from funcoes_6_Migracao import migracao"
   ]
  },
  {
   "cell_type": "code",
   "execution_count": 77,
   "id": "2fe7ce0e",
   "metadata": {},
   "outputs": [],
   "source": [
    "NUM_CAIXAS = 4\n",
    "VALOR_MAX_CAIXA = 100\n",
    "\n",
    "TAMANHO_POPULACAO = 100\n",
    "NUM_GERACOES = 700\n",
    "CHANCE_DE_CRUZAMENTO = 0.5\n",
    "CHANCE_DE_MUTACAO = 0.05\n",
    "CHANCE_DE_MUTACAO_POR_GENE = 0.25\n",
    "CHANCE_DE_MIGRACAO = 0.25\n",
    "TAMANHO_TORNEIO = 3"
   ]
  },
  {
   "cell_type": "code",
   "execution_count": 78,
   "id": "4501ace5",
   "metadata": {},
   "outputs": [],
   "source": [
    "populacao1  = cria_populacao(TAMANHO_POPULACAO, NUM_CAIXAS, VALOR_MAX_CAIXA)\n",
    "populacao2  = cria_populacao(TAMANHO_POPULACAO, NUM_CAIXAS, VALOR_MAX_CAIXA)\n"
   ]
  },
  {
   "cell_type": "code",
   "execution_count": 79,
   "id": "74c9559d",
   "metadata": {},
   "outputs": [],
   "source": [
    "def algoritmo_genetico(populacao, hall_da_fama):\n",
    "    # Seleção\n",
    "    fitness = funcao_objetivo(populacao)        \n",
    "    selecionados = funcao_selecao(populacao, fitness, TAMANHO_TORNEIO)\n",
    "    \n",
    "    # Cruzamento\n",
    "    proxima_geracao = []\n",
    "    for pai, mae in zip(selecionados[::2], selecionados[1::2]):\n",
    "        individuo1, individuo2 = funcao_cruzamento(pai, mae, CHANCE_DE_CRUZAMENTO)\n",
    "        proxima_geracao.append(individuo1)\n",
    "        proxima_geracao.append(individuo2)\n",
    "    \n",
    "    # Mutação\n",
    "    funcao_mutacao(proxima_geracao, CHANCE_DE_MUTACAO, CHANCE_DE_MUTACAO_POR_GENE, VALOR_MAX_CAIXA)\n",
    "    \n",
    "    # Atualização do hall da fama\n",
    "    fitness = funcao_objetivo(proxima_geracao)\n",
    "     \n",
    "    melhor_pop = fitness.index(max(fitness))\n",
    "    hall_da_fama.append(proxima_geracao[melhor_pop])    \n",
    "    \n",
    "    # Encerramento\n",
    "    populacao = proxima_geracao\n",
    "    \n",
    "    return fitness"
   ]
  },
  {
   "cell_type": "code",
   "execution_count": 80,
   "id": "be3132bb",
   "metadata": {},
   "outputs": [],
   "source": [
    "hall_da_fama_pop1 = []\n",
    "hall_da_fama_pop2 = []\n",
    "\n",
    "for n in range(NUM_GERACOES):\n",
    "    fitness1 = algoritmo_genetico(populacao1, hall_da_fama_pop1)\n",
    "    fitness2 = algoritmo_genetico(populacao2, hall_da_fama_pop2)\n",
    "    \n",
    "    if n % 50 == 0:\n",
    "        migracao(populacao1, populacao2, fitness1, fitness2, CHANCE_DE_MIGRACAO)\n"
   ]
  },
  {
   "cell_type": "code",
   "execution_count": 81,
   "id": "8f00479c",
   "metadata": {},
   "outputs": [
    {
     "data": {
      "text/plain": [
       "[100, 99, 94, 98]"
      ]
     },
     "execution_count": 81,
     "metadata": {},
     "output_type": "execute_result"
    }
   ],
   "source": [
    "hall_da_fama = hall_da_fama_pop1 + hall_da_fama_pop2\n",
    "\n",
    "fitness = funcao_objetivo(hall_da_fama)\n",
    "maior_fitness = max(fitness)\n",
    "indice = fitness.index(maior_fitness)\n",
    "melhor_individuo_observado = hall_da_fama[indice]\n",
    "\n",
    "melhor_individuo_observado"
   ]
  }
 ],
 "metadata": {
  "kernelspec": {
   "display_name": "Python 3 (ipykernel)",
   "language": "python",
   "name": "python3"
  },
  "language_info": {
   "codemirror_mode": {
    "name": "ipython",
    "version": 3
   },
   "file_extension": ".py",
   "mimetype": "text/x-python",
   "name": "python",
   "nbconvert_exporter": "python",
   "pygments_lexer": "ipython3",
   "version": "3.11.5"
  }
 },
 "nbformat": 4,
 "nbformat_minor": 5
}
